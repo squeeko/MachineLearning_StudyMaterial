{
 "cells": [
  {
   "cell_type": "markdown",
   "metadata": {},
   "source": [
    "## Slicing elements in an array"
   ]
  },
  {
   "cell_type": "code",
   "execution_count": 2,
   "metadata": {},
   "outputs": [],
   "source": [
    "# Importing array module\n",
    "\n",
    "import array as arr"
   ]
  },
  {
   "cell_type": "code",
   "execution_count": 5,
   "metadata": {},
   "outputs": [
    {
     "name": "stdout",
     "output_type": "stream",
     "text": [
      "Initial Array: \n",
      "1 2 3 4 5 6 7 8 9 10 "
     ]
    }
   ],
   "source": [
    "# Creating a list\n",
    "\n",
    "l = [1,2,3,4,5,6,7,8,9,10]\n",
    "\n",
    "a = arr.array('i', l)\n",
    "print('Initial Array: ')\n",
    "for i in (a):\n",
    "    print(i, end = \" \")\n",
    "    "
   ]
  },
  {
   "cell_type": "code",
   "execution_count": 6,
   "metadata": {},
   "outputs": [
    {
     "name": "stdout",
     "output_type": "stream",
     "text": [
      "\n",
      "Slicing elements in a range 3 - 8: \n",
      "array('i', [4, 5, 6, 7, 8])\n"
     ]
    }
   ],
   "source": [
    "# Print elements of a range using Slice\n",
    "sliced_array = a[3:8]\n",
    "print('\\nSlicing elements in a range 3 - 8: ')\n",
    "print(sliced_array)"
   ]
  },
  {
   "cell_type": "code",
   "execution_count": 7,
   "metadata": {},
   "outputs": [
    {
     "name": "stdout",
     "output_type": "stream",
     "text": [
      "\n",
      "Elements sliced from the 5th element til the end\n",
      "array('i', [6, 7, 8, 9, 10])\n"
     ]
    }
   ],
   "source": [
    "# Print elements from a predefined point to end\n",
    "\n",
    "sliced_array2 = a[5:]\n",
    "print('\\nElements sliced from the 5th element til the end')\n",
    "print(sliced_array2)"
   ]
  },
  {
   "cell_type": "code",
   "execution_count": 8,
   "metadata": {},
   "outputs": [
    {
     "name": "stdout",
     "output_type": "stream",
     "text": [
      "\n",
      "Printing all elements using slice\n",
      "array('i', [1, 2, 3, 4, 5, 6, 7, 8, 9, 10])\n"
     ]
    }
   ],
   "source": [
    "# Print elements from beginning to end\n",
    "\n",
    "sliced_array3 = a[:]\n",
    "print('\\nPrinting all elements using slice')\n",
    "print(sliced_array3)"
   ]
  }
 ],
 "metadata": {
  "kernelspec": {
   "display_name": "Python 3",
   "language": "python",
   "name": "python3"
  },
  "language_info": {
   "codemirror_mode": {
    "name": "ipython",
    "version": 3
   },
   "file_extension": ".py",
   "mimetype": "text/x-python",
   "name": "python",
   "nbconvert_exporter": "python",
   "pygments_lexer": "ipython3",
   "version": "3.7.4"
  }
 },
 "nbformat": 4,
 "nbformat_minor": 2
}
