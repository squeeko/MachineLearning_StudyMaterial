{
 "cells": [
  {
   "cell_type": "markdown",
   "metadata": {},
   "source": [
    "## Regression is to predict the value of a CONTINUOUS response variable "
   ]
  },
  {
   "cell_type": "code",
   "execution_count": 16,
   "metadata": {},
   "outputs": [
    {
     "data": {
      "image/png": "[encoded data removed]",
      "text/plain": [
       "<Figure size 432x288 with 1 Axes>"
      ]
     },
     "metadata": {
      "needs_background": "light"
     },
     "output_type": "display_data"
    }
   ],
   "source": [
    "import numpy as np\n",
    "import matplotlib.pyplot as plt\n",
    "\n",
    "# X represents the features of our training data which in this case are the diameters\n",
    "# of the pizzas\n",
    "\n",
    "# A scikit-learn convention is to name the MATRIX of the feature vectors 'X'.\n",
    "\n",
    "# Uppercase letters indicate MATRICES and lowercase letter indicate VECTORS.\n",
    "\n",
    "X = np.array([[6], [8], [10], [14], [18]]).reshape(-1, 1) \n",
    "# reshapes a matrix (rows and cols) we are making this a \n",
    "y = [7, 9, 13, 17.5, 18] # A 'List' vector representing the prices of the pizzas\n",
    "\n",
    "plt.figure()\n",
    "plt.title('Pizza price plotted against diameter')\n",
    "plt.xlabel('Diameter in inches')\n",
    "plt.ylabel('Price in dollars')\n",
    "plt.plot(X, y, 'k.') # plt.plot(X, y, fmt = '[marker][line][color]'\") \n",
    "# k = black and '.' = the dot marker)\n",
    "plt.axis([0, 25, 0, 25]) # axis scale -  xmin, xmax, ymin, ymax\n",
    "plt.grid(True) # show grid lines\n",
    "plt.show() # display the plot \n",
    "\n"
   ]
  },
  {
   "cell_type": "markdown",
   "metadata": {},
   "source": [
    "## There is a positive relationship as the prices increases with the increased diameter of the pizza. This relationship is modeled using Linear Regression - a continuous response variable. Below I will show how Linear Regression works"
   ]
  },
  {
   "cell_type": "code",
   "execution_count": 17,
   "metadata": {},
   "outputs": [
    {
     "name": "stdout",
     "output_type": "stream",
     "text": [
      "A 12\" pizza should cost: $13.68\n"
     ]
    }
   ],
   "source": [
    "from sklearn.linear_model import LinearRegression\n",
    "model = LinearRegression() # Create the instance of the estimator\n",
    "model.fit(X, y) # Fit the model on the training data\n",
    "\n",
    "# Predict the price of a pizza with a diameter that has never been seen before\n",
    "test_pizza = np.array([[12]])\n",
    "predicted_price = model.predict(test_pizza) [0]\n",
    "print('A 12\" pizza should cost: $%.2f' % predicted_price)"
   ]
  },
  {
   "cell_type": "markdown",
   "metadata": {},
   "source": [
    "## Simple Linear Regression assumes that a linear relationship exists between the RESPONSE variable and the EXPLANATORY variable. A linear surface called a HYPERPLANE is used to model this relationship. A HYPERPLANE is a subspace that has one dimension less than the ambient space that contains it. In simple linear regression there are TWO DIMENSIONS, one each for the EXPLANATORY and the RESPONSE variables. A REGRESSION HYPERPLANE has ONE DIMENSION which is a LINE. \n",
    "\n",
    "## From Wiki - In geometry, a hyperplane is a subspace whose dimension is one less than that of its ambient space. If a space is 3-dimensional then its hyperplanes are the 2-dimensional planes, while if the space is 2-dimensional, its hyperplanes are the 1-dimensional lines. ... By its nature, it separates the space into two half spaces."
   ]
  },
  {
   "cell_type": "markdown",
   "metadata": {},
   "source": [
    "## The LinearRegression class is an ESTIMATOR which PREDICTS A VALUE based on observed data. In scikit-learn ALL ESTIMATORS implement the 'FIT' and 'PREDICT' methods. The 'FIT' method is used to LEARN THE PARAMETERS of a model and the 'PREDICT' method is used to PREDICT THE VALUE OF A RESPONSE VARIABLE FOR A EXPLANATORY VARIABLE using the LEARNED PARAMETERS. \n",
    "\n",
    "## Estimators by category and usage\n",
    "\n",
    "## https://scikit-learn.org/stable/tutorial/machine_learning_map/index.html\n",
    "\n",
    "## y = a + Bx "
   ]
  },
  {
   "cell_type": "markdown",
   "metadata": {},
   "source": [
    "## EVALUATING THE FITNESS of a MODEL using the COST FUNCTION ALSO KNOWN AS THE LOSS FUNCTION. The differences in the MODEL between the predicted and observed values are called RESIDUALS or TRAINING ERRORS. \n",
    "\n",
    "## The differences in the TEST DATA between the predicted and observed values are called PREDICTION or TEST ERRORS. This is shown by the vertical lines between the regression hyperplane (line) and the points of the training instances.\n",
    "\n",
    "## I will use the RSS (Residual Sum of Squares) to measure the model's fitness. This is done by SUMMING THE SQUARE RESIDUALS for all of the training examples.\n",
    "\n",
    "## https://en.wikipedia.org/wiki/Residual_sum_of_squares\n",
    "\n",
    "## SSres = sum of 'n'(yi - f(xi))**2\n",
    "\n",
    "## 'n' is the number of observed values, 'yi' is the OBSERVED VALUE and 'f(x)' is the PREDICTED VALUE\n"
   ]
  },
  {
   "cell_type": "code",
   "execution_count": 18,
   "metadata": {},
   "outputs": [
    {
     "name": "stdout",
     "output_type": "stream",
     "text": [
      "Residual sum of squares: 1.75\n"
     ]
    }
   ],
   "source": [
    "# Computing the RSS for the model \n",
    "\n",
    "from sklearn.linear_model import LinearRegression\n",
    "model = LinearRegression() # Create the instance of the estimator\n",
    "model.fit(X, y) # Fit the model on the training data\n",
    "\n",
    "# Predict the price of a pizza with a diameter that has never been seen before\n",
    "test_pizza = np.array([[12]])\n",
    "predicted_price = model.predict(test_pizza) [0]\n",
    "# print('A 12\" pizza should cost: $%.2f' % predicted_price)\n",
    "print('Residual sum of squares: %.2f' % np.mean((model.predict(X) - y) ** 2))\n",
    "\n"
   ]
  },
  {
   "cell_type": "markdown",
   "metadata": {},
   "source": [
    "## OLS (Ordinary Least Squares) or LINEAR LEAST SQUARES\n",
    "\n",
    "## OLS uses the training data to learn the values of the parameters for SIMPLE LINEAR REGRESSION that produces the best fitting model. \n",
    "\n",
    "## Solving the OLS for Simple Linear Regression\n",
    "## The equation for simple linear regression is y = a + Bx and my goal is to solve for 'a' and 'b' and to minimize the cost function. To solve for 'B' first I have to calculate the VARIANCE of x and the COVARIANCE of 'x' and 'y'. Remember VARIANCE is how far apart a set of values are spread out. If all of the values in the set are equal then we have NO VARIANCE '0'. A SMALL VARIANCE indicates the values are NEAR THE MEAN of the set. Conversely, a LARGE VARIANCE indicates the values are FAR FROM THE MEAN AND EACH OTHER.\n",
    "\n",
    "## VARIANCE is calculated by the SQUARING the DIFFERENCE between EACH VALUE and the MEAN and DIVIDING that by the NUMBER OF INSTANCES MINUS 1. \n",
    "\n",
    "## var(x) = sum of all 'n' (xi - x_bar)**2/n-1\n",
    "\n",
    "## x_bar is the mean of x and xi is the value of x for ith training instance and n is the number of training instances"
   ]
  },
  {
   "cell_type": "code",
   "execution_count": 19,
   "metadata": {},
   "outputs": [
    {
     "name": "stdout",
     "output_type": "stream",
     "text": [
      "Mean:  11.2\n"
     ]
    }
   ],
   "source": [
    "import numpy as np\n",
    "X = np.array([[6], [8], [10], [14], [18]]).reshape(-1, 1)\n",
    "x_bar = X.mean()\n",
    "print('Mean: ', x_bar)\n"
   ]
  },
  {
   "cell_type": "code",
   "execution_count": 20,
   "metadata": {},
   "outputs": [
    {
     "name": "stdout",
     "output_type": "stream",
     "text": [
      "Variance:  23.2\n"
     ]
    }
   ],
   "source": [
    "# Note that I subtract one from the number of trraining instances when \n",
    "# calculating the sample variance.\n",
    "# This technique is called Bessel's correction. It corrects the bias in the estimation \n",
    "# of the population variance from a sample.\n",
    "\n",
    "variance = ((X - x_bar)**2).sum() / (X.shape[0] - 1)\n",
    "print('Variance: ', variance)"
   ]
  },
  {
   "cell_type": "markdown",
   "metadata": {},
   "source": [
    "## Covariance is a measure of how much two variables change together. If they INCREASE  TOGETHER their COVARIANCE IS POSITIVE, if one INCREASES while the other DECREASES, their COVARIANCE IS NEGATIVE. If they have no effect on each other, their COVARIANCE IS ZERO.\n",
    "\n",
    "## covar(x,y) = (xi - x_bar)(yi - y_bar)/n-1"
   ]
  },
  {
   "cell_type": "code",
   "execution_count": 52,
   "metadata": {},
   "outputs": [
    {
     "name": "stdout",
     "output_type": "stream",
     "text": [
      "Covariance:  22.65\n"
     ]
    }
   ],
   "source": [
    "# I will calculate the covariance\n",
    "# I used a list before to represent y but I will now use a numpy array which has a method to calculate the mean.\n",
    "# This is a List - 'y = [7, 9, 13, 17.5, 18]'\n",
    "# the following is an numpy array. Note the difference\n",
    "y = np.array([7, 9, 13, 17.5, 18])\n",
    "y_bar = y.mean()\n",
    "\n",
    "# I will transpose 'X' because both operands need to be 'row' vectors. \n",
    "# See what 'X' originally was\n",
    "# print(X - x_bar)\n",
    "# [[-5.2]\n",
    "# [-3.2]\n",
    "# [-1.2]\n",
    "# [ 2.8]\n",
    "# [ 6.8]] \n",
    "X_cov = np.transpose(X - x_bar)\n",
    "covariance = np.multiply(X_cov, y - y_bar).sum() / (X.shape[0] - 1)\n",
    "print('Covariance: ', covariance)"
   ]
  },
  {
   "cell_type": "markdown",
   "metadata": {},
   "source": [
    "## Now that I have calculated the VARIANCE of the EXPLANATORY VARIABLES and the COVARIANCE of the RESPONSE and EXPLANATORY VARIABLES, I can solve for 'b' which is the following formula:\n",
    "## cov(x,y) / var(x), 22.65 / 23.2 = 0.98 roughly\n",
    "\n",
    "## Now we can solve for 'a', 'y_bar' is the mean of 'y'\n",
    "## a = y_bar - Bx\n",
    "## Here 'y_bar' is the mean of 'y' and  'x_bar' is the mean of 'x'.\n",
    "## 'x_bar' and 'y_bar' are the COORDINATES of the CENTROID, a POINT THAT THE MODEL MUST PASS THROUGH.\n",
    "\n",
    "## a = 12.9 - 0.98 * 11.2 = 1.97 roughly"
   ]
  },
  {
   "cell_type": "markdown",
   "metadata": {},
   "source": [
    "## Evaluating the Model\n",
    "\n",
    "## I have used a learning algorithm (ESTIMATOR) to estimate a model's parameters from the TRAINING DATA. How can I assess whether the model is a good representation of the real relationship? I will now add a fourth columns which contains the prices predicted by the model. \n",
    "\n",
    "## I can evaluate my model's predictive capacity using a measure called 'R-SQUARED' also known as the 'COEFFICIENT OF DETERMINATION'. In the case of SIMPLE LINEAR REGRESSION, 'R-SQUARED' is equal to the square of the 'PEARSON PRODUCT-MOMENT CORRELATION COEFFICIENT' (PPMCC) or 'PEARSON'S R'. 'R-SQUARED' must be a positive number from '0' to '1', if 'R-SQUARED' describes the proportion of variance in the RESPONSE VARIABLE that is explained by the model, it cannot be greater than '1' or less than '0'. Other methods do not calculate 'R-SQUARED' as the square of 'PEARSON'S R'. 'R-SQUARED' can be negative if the model performs poorly and is sensitive to outliers and can increase as features are added to the model. \n",
    "\n",
    "## Using the method used by scikit-learn to calculate 'R-SQUARED'. \n",
    "## First I must measure the 'SUM OF SQUARES'. 'yi' is the 'OBSERVED VALUE' of the 'RESPONSE VALUE' for the 'ith' 'TEST INSTANCE' and 'y_bar' is the MEAN OF THE OBSERVED VALUES OF THE RESPONSE VARIABLES.\n",
    "\n",
    "## SStot = sum of all 'n'(yi - y_bar)**2"
   ]
  },
  {
   "cell_type": "markdown",
   "metadata": {},
   "source": [
    "## Next I must find the RSS\n",
    "## SSres = sum of 'n'(yi - f(xi))**2  \n",
    "## 'n' is the number of observed values, 'yi' is the OBSERVED VALUE and 'f(x)' is the PREDICTED VALUE"
   ]
  },
  {
   "cell_type": "markdown",
   "metadata": {},
   "source": [
    "## Finally I find R-SQUARED using the following\n",
    "\n",
    "## R**2 = 1 - SSres / SStot\n",
    "## In this instance it would be 1 - 19.20 / 56.8 = 0.66 roughly\n",
    "## The 'SCORE' method of 'LinearRegression' returns the model's 'R-SQUARED' value. "
   ]
  },
  {
   "cell_type": "code",
   "execution_count": 73,
   "metadata": {},
   "outputs": [
    {
     "name": "stdout",
     "output_type": "stream",
     "text": [
      "This is the r_squared value of the model: 0.66\n"
     ]
    }
   ],
   "source": [
    "import numpy as np\n",
    "from sklearn.linear_model import LinearRegression\n",
    "\n",
    "X_train = np.array([6, 8, 10, 14, 18]).reshape(-1, 1)\n",
    "y_train = [7, 9, 13, 17.5, 18]\n",
    "\n",
    "X_test = np.array([8, 9, 11, 16,12]).reshape(-1, 1)\n",
    "y_test = [11, 8.5, 15, 18, 11]\n",
    "\n",
    "model = LinearRegression()\n",
    "model.fit(X_train, y_train)\n",
    "r_squared = model.score(X_test, y_test)\n",
    "print('This is the r_squared value of the model: %.2f' %r_squared)"
   ]
  }
 ],
 "metadata": {
  "celltoolbar": "Raw Cell Format",
  "kernelspec": {
   "display_name": "Python 3",
   "language": "python",
   "name": "python3"
  },
  "language_info": {
   "codemirror_mode": {
    "name": "ipython",
    "version": 3
   },
   "file_extension": ".py",
   "mimetype": "text/x-python",
   "name": "python",
   "nbconvert_exporter": "python",
   "pygments_lexer": "ipython3",
   "version": "3.7.4"
  }
 },
 "nbformat": 4,
 "nbformat_minor": 2
}
