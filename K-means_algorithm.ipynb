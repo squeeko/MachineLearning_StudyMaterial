{
 "cells": [
  {
   "cell_type": "markdown",
   "metadata": {},
   "source": [
    "## K-Means algo problem\n",
    "### Step 1 - Import libraries\n",
    "### Step 2 - Generate random data\n",
    "### Step 3 - Use scikit-learn \n",
    "### Step 4 - Finding the centroid\n",
    "### Step 5 - Testing the algorithm"
   ]
  },
  {
   "cell_type": "code",
   "execution_count": 1,
   "metadata": {},
   "outputs": [
    {
     "name": "stderr",
     "output_type": "stream",
     "text": [
      "/Users/squeeko/opt/anaconda3/lib/python3.7/importlib/_bootstrap.py:219: RuntimeWarning: numpy.ufunc size changed, may indicate binary incompatibility. Expected 192 from C header, got 216 from PyObject\n",
      "  return f(*args, **kwds)\n",
      "/Users/squeeko/opt/anaconda3/lib/python3.7/importlib/_bootstrap.py:219: RuntimeWarning: numpy.ufunc size changed, may indicate binary incompatibility. Expected 192 from C header, got 216 from PyObject\n",
      "  return f(*args, **kwds)\n",
      "/Users/squeeko/opt/anaconda3/lib/python3.7/importlib/_bootstrap.py:219: RuntimeWarning: numpy.ufunc size changed, may indicate binary incompatibility. Expected 192 from C header, got 216 from PyObject\n",
      "  return f(*args, **kwds)\n",
      "/Users/squeeko/opt/anaconda3/lib/python3.7/importlib/_bootstrap.py:219: RuntimeWarning: numpy.ufunc size changed, may indicate binary incompatibility. Expected 192 from C header, got 216 from PyObject\n",
      "  return f(*args, **kwds)\n"
     ]
    }
   ],
   "source": [
    "# Step 1 - Import libraries\n",
    "\n",
    "import pandas as pd\n",
    "import numpy as np\n",
    "import matplotlib.pyplot as plt\n",
    "from sklearn.cluster import KMeans\n",
    "# %matplotlib inline"
   ]
  },
  {
   "cell_type": "code",
   "execution_count": 4,
   "metadata": {},
   "outputs": [
    {
     "data": {
      "image/png": "[encoded data removed]",
      "text/plain": [
       "<Figure size 432x288 with 1 Axes>"
      ]
     },
     "metadata": {
      "needs_background": "light"
     },
     "output_type": "display_data"
    },
    {
     "data": {
      "text/plain": [
       "\"\\nx, y : array_like, shape (n, )\\nThe data positions.\\n\\ns : scalar or array_like, shape (n, ), optional\\nThe marker size in points**2. Default is rcParams['lines.markersize'] ** 2.\\n\\nc : color, sequence, or sequence of color, optional\\nThe marker color. Possible values:\\n\\nA single color format string.\\nA sequence of color specifications of length n.\\nA sequence of n numbers to be mapped to colors using cmap and norm.\\nA 2-D array in which the rows are RGB or RGBA.\\n\""
      ]
     },
     "execution_count": 4,
     "metadata": {},
     "output_type": "execute_result"
    }
   ],
   "source": [
    "# Step 2 - Generate random data\n",
    "\n",
    "X = -2 * np.random.rand(100,2)\n",
    "X1 = 1 + 2 * np.random.rand(50, 2)\n",
    "\n",
    "X[50:100, :] = X1\n",
    "plt.scatter(X[:, 0], X[:, 1], s = 50, c = 'b')\n",
    "plt.show()\n",
    "\n",
    "'''\n",
    "x, y : array_like, shape (n, )\n",
    "The data positions.\n",
    "\n",
    "s : scalar or array_like, shape (n, ), optional\n",
    "The marker size in points**2. Default is rcParams['lines.markersize'] ** 2.\n",
    "\n",
    "c : color, sequence, or sequence of color, optional\n",
    "The marker color. Possible values:\n",
    "\n",
    "A single color format string.\n",
    "A sequence of color specifications of length n.\n",
    "A sequence of n numbers to be mapped to colors using cmap and norm.\n",
    "A 2-D array in which the rows are RGB or RGBA.\n",
    "'''"
   ]
  },
  {
   "cell_type": "code",
   "execution_count": 5,
   "metadata": {},
   "outputs": [
    {
     "data": {
      "text/plain": [
       "KMeans(algorithm='auto', copy_x=True, init='k-means++', max_iter=300,\n",
       "       n_clusters=2, n_init=10, n_jobs=None, precompute_distances='auto',\n",
       "       random_state=None, tol=0.0001, verbose=0)"
      ]
     },
     "execution_count": 5,
     "metadata": {},
     "output_type": "execute_result"
    }
   ],
   "source": [
    "# Step 3 - Use scikit-learn\n",
    "\n",
    "from sklearn.cluster import KMeans\n",
    "Kmean = KMeans(n_clusters=2)\n",
    "Kmean.fit(X)"
   ]
  },
  {
   "cell_type": "code",
   "execution_count": 10,
   "metadata": {},
   "outputs": [
    {
     "name": "stdout",
     "output_type": "stream",
     "text": [
      "[[-1.02108843 -1.00739267]\n",
      " [ 2.13204003  1.98544968]]\n"
     ]
    },
    {
     "data": {
      "image/png": "[encoded data removed]",
      "text/plain": [
       "<Figure size 432x288 with 1 Axes>"
      ]
     },
     "metadata": {
      "needs_background": "light"
     },
     "output_type": "display_data"
    }
   ],
   "source": [
    "# Step 4 - Finding and displaying the centroid\n",
    "\n",
    "print(Kmean.cluster_centers_)\n",
    "\n",
    "plt.scatter(X[:, 0], X[:, 1], s=50, c='b')\n",
    "plt.scatter(-1.02108843, -1.00739267, s=200, c='g', marker='s')\n",
    "plt.scatter(2.13204003,  1.98544968, s=200, c='r', marker='s')\n",
    "plt.show()\n"
   ]
  },
  {
   "cell_type": "code",
   "execution_count": 11,
   "metadata": {},
   "outputs": [
    {
     "name": "stdout",
     "output_type": "stream",
     "text": [
      "[0 0 0 0 0 0 0 0 0 0 0 0 0 0 0 0 0 0 0 0 0 0 0 0 0 0 0 0 0 0 0 0 0 0 0 0 0\n",
      " 0 0 0 0 0 0 0 0 0 0 0 0 0 1 1 1 1 1 1 1 1 1 1 1 1 1 1 1 1 1 1 1 1 1 1 1 1\n",
      " 1 1 1 1 1 1 1 1 1 1 1 1 1 1 1 1 1 1 1 1 1 1 1 1 1 1]\n"
     ]
    }
   ],
   "source": [
    "# Step 5 - Testing the algorithm\n",
    "\n",
    "print(Kmean.labels_)\n",
    "\n",
    "# We see 50 data points each belonging to clusters 0 and 1 "
   ]
  },
  {
   "cell_type": "code",
   "execution_count": 20,
   "metadata": {},
   "outputs": [
    {
     "name": "stdout",
     "output_type": "stream",
     "text": [
      "[-3. -3.]\n",
      "[[-3. -3.]]\n",
      "This data point belongs to Cluster [0]\n"
     ]
    }
   ],
   "source": [
    "# Lets predict the cluster of a data point\n",
    "\n",
    "sample_test = np.array([-3.0, -3.0])\n",
    "print(sample_test)\n",
    "\n",
    "second_test = sample_test.reshape(1, -1)\n",
    "print(second_test)\n",
    "\n",
    "print('This data point belongs to Cluster', Kmean.predict(second_test))\n"
   ]
  },
  {
   "cell_type": "code",
   "execution_count": null,
   "metadata": {},
   "outputs": [],
   "source": []
  }
 ],
 "metadata": {
  "kernelspec": {
   "display_name": "Python 3",
   "language": "python",
   "name": "python3"
  },
  "language_info": {
   "codemirror_mode": {
    "name": "ipython",
    "version": 3
   },
   "file_extension": ".py",
   "mimetype": "text/x-python",
   "name": "python",
   "nbconvert_exporter": "python",
   "pygments_lexer": "ipython3",
   "version": "3.7.4"
  }
 },
 "nbformat": 4,
 "nbformat_minor": 2
}
